{
 "cells": [
  {
   "cell_type": "code",
   "execution_count": 35,
   "metadata": {
    "metadata": {}
   },
   "outputs": [
    {
     "name": "stdout",
     "output_type": "stream",
     "text": [
      "[['Hemograma cu form', 'ula leucocitara cu Hb, Ht si', '', '', '', ''], ['', '', '', '', '', ''], ['indici', '', '', '', '', ''], ['', '', '', '', '', ''], ['Sange EDTA / metode:', 'focusare hidrodinamica,', '', '', '', ''], ['', '', '', '', '', ''], ['citometrie in flux, SLS-H', 'b', '', '', '', ''], ['', '', '', '', '', ''], ['Numar leucocite', '', '5.59', 'mii/µL', '4', '- 10'], ['', '', '', '', '', ''], ['Numar eritrocite', '', '5.15', 'mil./µL', '4.3', '- 5.7'], ['', '', '', '', '', ''], ['Hemoglobina {Hb}', '', '15.4', 'g/dL', '13.2', '- 17'], ['', '', '', '', '', ''], ['Hematocrit', '', '46.9', '%', '39', '- 49'], ['', '', '', '', '', ''], ['Volum eritrocitar med', 'iu {VEM}', '91.1', 'fL', '80', '- 99'], ['', '', '', '', '', ''], ['Hemoglobina eritroci', 'tara medie {HEM}', '29.9', 'pg/cell', '27', '- 34'], ['', '', '', '', '', ''], ['Concentratie medie', 'a Hb/eritrocit', '32.8', 'g/dL', '32', '- 37'], ['', '', '', '', '', ''], ['Largimea distributiei', 'eritrocitare', '12', '%', '11.6', '- 14.'], ['', '', '', '', '', ''], ['Numar trombocite', '', '293', 'mii/µL', '150', '- 45'], ['', '', '', '', '', ''], ['Volum trombocitar m', 'ediu {VTM}', '10.4', 'fL', '7.4', '- 13'], ['', '', '', '', '', ''], ['Largimea distributiei', 'trombocitare', '12.5', 'fL', '8 -', '16.5'], ['', '', '', '', '', ''], ['Neutrofil', '', '41.5', '%', '45', '- 80'], ['', '', '', '', '', ''], ['Neutrofil', '', '2.32', 'mii/µL', '2', '- 8'], ['', '', '', '', '', ''], ['Limfocit', '', '44.7', '%', '20', '- 55'], ['', '', '', '', '', ''], ['Limfocit', '', '2.5', 'mii/µL', '1', '- 4'], ['', '', '', '', '', ''], ['Monocit', '', '10.6', '%', '≤', '15'], ['', '', '', '', '', ''], ['Monocit', '', '0.59', 'mii/µL', '0.3', '- 1'], ['', '', '', '', '', ''], ['Eozinofil', '', '2.7', '%', '≤', '7'], ['', '', '', '', '', ''], ['Eozinofil', '', '0.15', 'mii/µL', '0.05', '- 0.'], ['', '', '', '', '', ''], ['Bazofil', '', '0.5', '%', '≤', '2'], ['', '', '', '', '', ''], ['Bazofil', '', '0.03', 'mii/µL', '≤', '0.2'], ['', '', '', '', '', ''], ['himie', '', '', '', '', ''], ['', '', '', '', '', ''], ['Creatinina serica', '', '', '', '', ''], ['', '', '', '', '', ''], ['Ser / Metoda kinetica c', 'olorimetrica', '0.87', 'mg/dL', '<', '1.2'], ['Jaffe/spectrofotometrie', '', '', '', '', '']]\n",
      "[['', '', '', '', 'Valori in', 'afara limitelo'], ['', '', '', '', '', ''], ['', '', '', '', 'pentru', 'varsta si sexul'], ['', '', '', '', '', ''], ['Denu', 'mire Re', 'zultat', 'UM', 'Interval', 'de referint'], ['', '', '', '', '', ''], ['LLIS', 'Alaninaminotransferaza (GPT/ALAT/ALT)', '', '', '', ''], ['', '', '', '', '', ''], ['', 'Ser / Metoda kinetica IFCC fara piridoxal', '21.4', 'U/L', '', '< 41'], ['', 'fosfat/spectrofotometrie', '', '', '', ''], ['', '', '', '', '', ''], ['LLIS', 'Aspartataminotransferaza (GOT/ASAT/AST)', '', '', '', ''], ['', '', '', '', '', ''], ['', 'Ser / Metoda kinetica IFCC fara piridoxal', '16.9', 'U/L', '', '< 40'], ['', 'fosfat/spectrofotometrie', '', '', '', ''], ['', '', '', '', '', ''], ['LLIS', 'Colesterol total', '', '', '', ''], ['', '', '', '', '', ''], ['', 'Ser / metoda enzimatica - colorimetrica /', '150.4', 'mg/dL', 'Conform', 'NCEP ATP III:'], ['', 'spectrofotometrie', '', '', '- opt', 'im: <200'], ['', '', '', '', '', ''], ['', '', '', '-', 'borderline', 'crescut: 200-2'], ['', '', '', '', '', ''], ['', '', '', '', '- cres', 'cut: > 240'], ['', '', '', '', '', ''], ['LLIS', 'Uree serica', '', '', '', ''], ['', '', '', '', '', ''], ['', 'Ser / Metoda kinetica / spectrofotometrie', '', '', '', ''], ['', '', '', '', '', ''], ['', 'Urea', '29.1', 'mg/dL', '', '< 43'], ['', '', '', '', '', ''], ['', '* Urea nitrogen (BUN)', '14', 'mg/dL', '', '< 20'], ['', '', '', '', '', ''], ['LLIS', 'Trigliceride', '', '', '', ''], ['', '', '', '', '', ''], ['', 'Ser / metoda enzimatica -', '', '', '', ''], ['', '', '', '', '', ''], ['', 'colorimetrica/spectrofotometrie', '', '', '', ''], ['', '', '', '', '', ''], ['', 'Trigliceride', '53.6', 'mg/dL', 'Conform', 'NCEP ATP III:'], ['', '', '', '', '', ''], ['', '', '', '', '- opt', 'im: < 150'], ['', '', '', '', '', ''], ['', '', '', '-', 'borderline', 'crescut: 150-1'], ['', '', '', '', '', ''], ['', '', '', '', '- cresc', 'ut: 200-499'], ['', '', '', '', '', ''], ['', '', '', '', '- foarte', 'crescut: ≥ 500'], ['', '', '', '', '', ''], ['', 'Colesterol VLDL (calculat)', '11', 'mg/dL', '', '< 30'], ['', '', '', '', '', ''], ['LLIS', 'Glucoza serica', '', '', '', ''], ['', '', '', '', '', ''], ['', 'Ser / metoda enzimatica - colorimetrica /', '92', 'mg/dL', 'Interp', 'retare valori'], ['', 'spectrofotometrie', '', 'glice', 'mie bazala', '(recomandari'], ['', '', '', '', '', ''], ['', '', '', '', '60-9', '9: Normal'], ['', '', '', '', '', ''], ['', '', '', '100-1', '25: Glice', 'mie bazala mo'], ['', '', '', '', '', ''], ['', '', '', '', '≥ 126: D', 'iabet zaharat'], ['', '', '', '', '', ''], ['', '', '', 'Diagn', 'osticul de', 'diabet zahara'], ['', '', '', '', '', ''], ['', '', '', 'stab', 'ili pe baza', 'a cel putin 2'], ['', '', '', '', '', ''], ['', '', '', 'cresc', 'ute ≥ 126', 'ale glicemiei'], ['', '', '', '', '', ''], ['', '', '', '', 'obtinute', 'in zile diferite.']]\n",
      "[['', '', '', '', '', '', 'pentru', 'varsta', 'si s'], ['', '', '', '', '', '', '', '', ''], ['Denu', 'mire', 'Rez', 'ultat', 'UM', 'I', 'nterv', 'al de r', 'efe'], ['', '', '', '', '', '', '', '', ''], ['LLIS', 'Magneziu', 'seric', '', '', '', '', '', ''], ['', '', '', '', '', '', '', '', ''], ['', 'Ser / Metod', 'a: colorimetrica/Spectrofotometrie', '2.55', 'mg/dL', '', '', '1.7 - 2.', '2'], ['', '', '', '', '', '', '', '', ''], ['LLIS', 'Fier seric', '(sideremie)', '', '', '', '', '', ''], ['', '', '', '', '', '', '', '', ''], ['', 'Ser / Spectr', 'ofotometrie - metoda colorimetrica', '131.84', 'µg/dL', '', '', '33 - 19', '3'], ['', '', '', '', '', '', '', '', ''], ['Imun', 'ochimi', 'e', '', '', '', '', '', ''], ['', '', '', '', '', '', '', '', ''], ['LLIS', 'Feritina', '', '', '', '', '', '', ''], ['', '', '', '', '', '', '', '', ''], ['', 'Ser / electro', 'chemiluminiscenta (ECLIA)', '115.8', 'ng/mL', '0', '- 1 an', 'i: 12 - 3', '27 n'], ['', '', '', '', '', '', '', '', ''], ['', '', '', '', '', '', '1 - 4 a', 'ni: 6 - 6', '7 ng'], ['', '', '', '', '', '', '', '', ''], ['', '', '', '', '', '', '4 - 7 a', 'ni: 4 - 6', '7 ng'], ['', '', '', '', '', '', '', '', ''], ['', '', '', '', '', '', '', 'Fete:', ''], ['', '', '', '', '', '', '', '', ''], ['', '', '', '', '', '7', '- 13 a', 'ni – 7 -', '84 n'], ['', '', '', '', '', '', '', '', ''], ['', '', '', '', '', '13', '- 18 a', 'ni – 13 -', '68'], ['', '', '', '', '', '', '', '', ''], ['', '', '', '', '', '', '', 'Baieti:', ''], ['', '', '', '', '', '', '', '', ''], ['', '', '', '', '', '7', '– 13 an', 'i - 14 -', '124'], ['', '', '', '', '', '', '', '', ''], ['', '', '', '', '', '13', '- 18 an', 'i – 14 -', '152'], ['', '', '', '', '', '', '', '', ''], ['', '', '', '', '', 'Femei:', '> 18 an', 'i –', '13 -'], ['', '', '', '', '', '', '', '', ''], ['', '', '', '', '', 'Barb', 'ati: > 1', '8 ani: 30', '- 4'], ['', '', '', '', '', '', '', '', ''], ['', '', '', '', '', 'Sarcina;', 'boala', 'intestin', 'ala i'], ['', '', '', '', '', '', '', '', ''], ['', '', '', '', '', 'boala', 'renala', 'cronica', 'si in'], ['', '', '', '', '', '', '', '', ''], ['', '', '', '', '', '', 'cardia', 'ca: > 10', '0 ng'], ['', '', '', '', '', '', '', '', ''], ['Bioc', 'himie', '', '', '', '', '', '', ''], ['', '', '', '', '', '', '', '', ''], ['Calciu', 'ionic', '', '', '', '', '', '', ''], ['', '', '', '', '', '', '', '', ''], ['LLIS', 'Calciu ion', 'ic', '', '', '', '', '', ''], ['', '', '', '', '', '', '', '', ''], ['', 'Ser / test ca', 'lculat / spectrofotometrie', '4.12', 'mg/dL', '', '3', '.82 - 4.', '82'], ['', '', '', '', '', '', '', '', ''], ['LLIS', 'Calciu ser', 'ic', '', '', '', '', '', ''], ['', '', '', '', '', '', '', '', ''], ['', 'Ser / Metod', 'a colorimetrica/Spectrofotometrie', '9.82', 'mg/dL', '', '', '8.6 - 10', ''], ['', '', '', '', '', '', '', '', ''], ['LLIS', 'Proteine t', 'otale serice', '', '', '', '', '', ''], ['', '', '', '', '', '', '', '', ''], ['', 'Ser / Metod', 'a colorimetrica / spectrofotometrie', '7.67', 'g/dL', '', '', '6.6 - 8.', '7'], ['', '', '', '', '', '', '', '', ''], ['Urina', 'biochimie', 'si sediment', '', '', '', '', '', ''], ['', '', '', '', '', '', '', '', ''], ['LLIS', 'Urina - bio', 'chimie', '', '', '', '', '', ''], ['', '', '', '', '', '', '', '', ''], ['', 'Urina / met', 'oda fotometrica (pe strip)/reflectometrie', '', '', '', '', '', '']]\n",
      "[['', '', '', '', '', 'pent', 'ru varsta si'], ['', '', '', '', '', '', ''], ['Denu', 'mire', '', 'Rezultat', 'UM', 'Interv', 'al de ref'], ['', '', '', '', '', '', ''], ['LLIS', 'Urina - biochi', 'mie', '', '', '', ''], ['', '', '', '', '', '', ''], ['', 'Urina / metoda', 'fotometrica (pe strip)/reflectometrie', '', '', '', ''], ['', '', '', '', '', '', ''], ['', 'densitate', '', '1.025', '', '1', '.015 - 1.02'], ['', '', '', '', '', '', ''], ['', 'pH', '', '5', '', '', '4.8 - 7.4'], ['', '', '', '', '', '', ''], ['', 'nitriti', '', 'negativ', '', '', 'negativ'], ['', '', '', '', '', '', ''], ['', 'leucocite (est', 'eraza granulocitara)', 'negativ', '/µL', '', 'negativ'], ['', '', '', '', '', '', ''], ['', 'proteine', '', '< 10', 'mg/dL', '', '< 10'], ['', '', '', '', '', '', ''], ['', 'glucoza', '', 'nedecelabil', 'mg/dL', '', 'nedecelabil'], ['', '', '', '', '', '', ''], ['', 'corpi cetonici', '', 'negativ', 'mg/dL', '', 'negativ'], ['', '', '', '', '', '', ''], ['', 'urobilinogen', '', 'normal', 'mg/dL', '', 'normal'], ['', '', '', '', '', '', ''], ['', 'bilirubina', '', 'negativ', 'mg/dL', '', 'negativ'], ['', '', '', '', '', '', ''], ['', 'hematii (hemo', 'globina)', 'negativ', '/µL', '', 'negativ'], ['', '', '', '', '', '', ''], ['LLIS', 'Urina - sedim', 'ent', '', '', '', ''], ['', '', '', '', '', '', ''], ['', 'Urina / examen', 'microscopic', '', '', '', ''], ['', '', '', '', '', '', ''], ['', 'Leucocite', '', '1-4', '/hpf', '', '1-4'], ['', '', '', '', '', '', ''], ['', 'Celule epitelia', 'le scuamoase', '1-15', '/hpf', '', '1-15'], ['', '', '', '', '', '', ''], ['', 'Mucus', '', 'prezent', '', '', 'absent'], ['', '', '', '', '', '', ''], ['Suma a', 'nalizelor de p', 'e buletinul actual este 125.69 lei aferent contrac', 'tului IS - CAS MED', 'ICINA DE FAMILIE.', '', ''], ['', '', '', '', '', '', ''], ['', '', '', '', '', 'Medic', 'de laborator'], ['', '', '', '', '', '', ''], ['', '', '', '', '', '...............', '.................'], ['', '', '', '', '', '', ''], ['', '', '', '', 'Rezultat eliberat', 'in: Lab', 'orator Iasi'], ['LLIS - Efectu', 'at in:Laborator Iasi,', 'str.Str. Iordachi Lozonschi nr.4, Iasi - Iasi', '', '', '', ''], ['', '', '', '', '', '', ''], ['*Activitat', 'ea de recoltare s', 'i examinarile marcate nu sunt acoperite de acreditarea R', 'ENAR. Pentru detalii', 'suplimentare vă rugăm sa', 'accesati s', 'ite-ul'], ['www.rena', 'r.ro.', '', '', '', '', ''], ['Opiniile s', 'i interpretarile c', 'ontinute de prezentul raport nu sunt acoperite de acredit', 'area RENAR.', '', '', '']]\n"
     ]
    }
   ],
   "source": [
    "import pdfplumber\n",
    "import pytesseract\n",
    "\n",
    "ts = {\n",
    "    \"vertical_strategy\": \"text\",\n",
    "    \"horizontal_strategy\": \"text\",\n",
    "}\n",
    "\n",
    "pdf = pdfplumber.open(\"synevo_pdf.pdf\")\n",
    "\n",
    "for page in pdf.pages:\n",
    "    crop_ean = page.crop([0,300,page.width,page.height - 50])\n",
    "    #crop_ean = page\n",
    "    crop_ean_img = crop_ean.to_image(resolution=1000)\n",
    "    crop_ean_img.original.show()\n",
    "    crop_table_ean = crop_ean.extract_table(table_settings=ts)\n",
    "\n",
    "    print (crop_table_ean)\n",
    "\n",
    "    # crop_count = page.crop([0,0,page.width,page.height])\n",
    "    # crop_count_img = crop_count.to_image(resolution=300)\n",
    "    # ocr = pytesseract.image_to_string(crop_count_img.original,config='--psm 6 -c tessedit_char_whitelist=0123456789')\n",
    "\n",
    "    # ocr_list = ocr.split(\"\\n\")\n",
    "\n",
    "    # if ocr_list[-1] == '\\x0c':\n",
    "    #     ocr_list = ocr_list[:-1]\n",
    "\n",
    "    # #print (ocr_list)\n",
    "    # print(f\"{crop_table_ean} {len(ocr_list)}\")"
   ]
  }
 ],
 "metadata": {
  "kernelspec": {
   "display_name": "Python 3",
   "language": "python",
   "name": "python3"
  },
  "language_info": {
   "codemirror_mode": {
    "name": "ipython",
    "version": 3
   },
   "file_extension": ".py",
   "mimetype": "text/x-python",
   "name": "python",
   "nbconvert_exporter": "python",
   "pygments_lexer": "ipython3",
   "version": "3.11.3"
  }
 },
 "nbformat": 4,
 "nbformat_minor": 2
}
